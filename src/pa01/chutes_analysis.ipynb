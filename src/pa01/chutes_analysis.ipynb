{
 "cells": [
  {
   "cell_type": "code",
   "execution_count": 2,
   "metadata": {
    "collapsed": true,
    "pycharm": {
     "name": "#%% Statistics\n",
     "is_executing": false
    }
   },
   "outputs": [
    {
     "traceback": [
      "\u001b[1;31m---------------------------------------------------------------------------\u001b[0m",
      "\u001b[1;31mModuleNotFoundError\u001b[0m                       Traceback (most recent call last)",
      "\u001b[1;32m<ipython-input-2-d828353b4d9a>\u001b[0m in \u001b[0;36m<module>\u001b[1;34m\u001b[0m\n\u001b[0;32m      3\u001b[0m \u001b[1;33m\u001b[0m\u001b[0m\n\u001b[0;32m      4\u001b[0m \u001b[1;32mfrom\u001b[0m \u001b[0mmatplotlib\u001b[0m \u001b[1;32mimport\u001b[0m \u001b[0mpyplot\u001b[0m\u001b[1;33m\u001b[0m\u001b[1;33m\u001b[0m\u001b[0m\n\u001b[1;32m----> 5\u001b[1;33m \u001b[1;32mfrom\u001b[0m \u001b[1;33m.\u001b[0m\u001b[0msnakes_and_ladders\u001b[0m \u001b[1;32mimport\u001b[0m \u001b[0mmulti_game_experiment\u001b[0m\u001b[1;33m\u001b[0m\u001b[1;33m\u001b[0m\u001b[0m\n\u001b[0m\u001b[0;32m      6\u001b[0m \u001b[0mnumber_of_players\u001b[0m \u001b[1;33m=\u001b[0m \u001b[1;33m[\u001b[0m\u001b[1;36m1\u001b[0m\u001b[1;33m,\u001b[0m \u001b[1;36m2\u001b[0m\u001b[1;33m,\u001b[0m \u001b[1;36m4\u001b[0m\u001b[1;33m,\u001b[0m \u001b[1;36m8\u001b[0m\u001b[1;33m]\u001b[0m\u001b[1;33m\u001b[0m\u001b[1;33m\u001b[0m\u001b[0m\n\u001b[0;32m      7\u001b[0m \u001b[0mnumber_of_games\u001b[0m \u001b[1;33m=\u001b[0m \u001b[1;36m100\u001b[0m\u001b[1;33m\u001b[0m\u001b[1;33m\u001b[0m\u001b[0m\n",
      "\u001b[1;31mModuleNotFoundError\u001b[0m: No module named '__main__.snakes_and_ladders'; '__main__' is not a package"
     ],
     "ename": "ModuleNotFoundError",
     "evalue": "No module named '__main__.snakes_and_ladders'; '__main__' is not a package",
     "output_type": "error"
    }
   ],
   "source": [
    "__author__ = \"Ida Lunde Naalsund, Kjersti Rustad Kvisberg\"\n",
    "__email__= \"idna@nmbu.no, kjkv@nmbu.no\"\n",
    "\n",
    "from matplotlib import pyplot\n",
    "#from snakes_and_ladders import multi_game_experiment \n",
    "number_of_players = [1, 2, 4, 8]\n",
    "number_of_games = 100\n",
    "\n",
    "for players in number_of_players:\n",
    "    result = multi_game_experiment(number_of_games, players, 87)\n",
    "    pyplot.hist(result, histtype ='step')\n",
    "    \n",
    "\n"
   ]
  },
  {
   "cell_type": "code",
   "execution_count": 4,
   "outputs": [
    {
     "name": "stdout",
     "text": [
      " Volume in drive C is OS\n Volume Serial Number is 9629-0373\n\n Directory of C:\\Users\\idaln\\OneDrive\\Dokumenter\\INF200\\INF200-2019-Exersices_ida\\src\\pa01\n\n04.10.2019  08:56    <DIR>          .\n04.10.2019  08:56    <DIR>          ..\n03.10.2019  10:44                34 chutes.py\n04.10.2019  08:56             3ÿ471 chutes_analysis.ipynb\n03.10.2019  16:06             3ÿ916 snakes_and_ladders.py\n04.10.2019  08:34               186 __init__.py\n               4 File(s)          7ÿ607 bytes\n               2 Dir(s)  903ÿ374ÿ876ÿ672 bytes free\n"
     ],
     "output_type": "stream"
    }
   ],
   "source": [
    "!dir\n"
   ],
   "metadata": {
    "collapsed": false,
    "pycharm": {
     "name": "#%%\n",
     "is_executing": false
    }
   }
  }
 ],
 "metadata": {
  "kernelspec": {
   "display_name": "Python 3",
   "language": "python",
   "name": "python3"
  },
  "language_info": {
   "codemirror_mode": {
    "name": "ipython",
    "version": 2
   },
   "file_extension": ".py",
   "mimetype": "text/x-python",
   "name": "python",
   "nbconvert_exporter": "python",
   "pygments_lexer": "ipython2",
   "version": "2.7.6"
  },
  "pycharm": {
   "stem_cell": {
    "cell_type": "raw",
    "source": [],
    "metadata": {
     "collapsed": false
    }
   }
  }
 },
 "nbformat": 4,
 "nbformat_minor": 0
}