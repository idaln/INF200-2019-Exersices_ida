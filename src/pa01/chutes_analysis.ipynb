{
 "cells": [
  {
   "cell_type": "code",
   "execution_count": 2,
   "outputs": [
    {
     "data": {
      "text/plain": "<matplotlib.legend.Legend at 0x18e330c69e8>"
     },
     "metadata": {},
     "output_type": "execute_result",
     "execution_count": 2
    },
    {
     "data": {
      "text/plain": "<Figure size 432x288 with 1 Axes>",
      "image/png": "[encoded data removed]"
     },
     "metadata": {
      "needs_background": "light"
     },
     "output_type": "display_data"
    }
   ],
   "source": [
    "# -*- coding: utf-8 -*-\n",
    "\n",
    "## \"Ida Lunde Naalsund, Kjersti Rustad Kvisberg\"\n",
    "## \"idna@nmbu.no, kjkv@nmbu.no\"\n",
    "\n",
    "from matplotlib import pyplot as plt\n",
    "import snakes_and_ladders\n",
    "\n",
    "number_of_players = [1, 2, 4, 8]\n",
    "number_of_games = 100\n",
    "\n",
    "for players in number_of_players:\n",
    "    number_of_moves = snakes_and_ladders.multi_game_experiment(\n",
    "        number_of_games, players, 87\n",
    "    )\n",
    "    plt.hist(number_of_moves, bins=30, histtype='step')\n",
    "plt.legend(['1 player', '2 players', '4 players', '8 players'])"
   ],
   "metadata": {
    "collapsed": false,
    "pycharm": {
     "name": "#%%\n",
     "is_executing": false
    }
   }
  }
 ],
 "metadata": {
  "kernelspec": {
   "display_name": "Python 3",
   "language": "python",
   "name": "python3"
  },
  "language_info": {
   "codemirror_mode": {
    "name": "ipython",
    "version": 3
   },
   "file_extension": ".py",
   "mimetype": "text/x-python",
   "name": "python",
   "nbconvert_exporter": "python",
   "pygments_lexer": "ipython3",
   "version": "3.7.1"
  },
  "pycharm": {
   "stem_cell": {
    "cell_type": "raw",
    "source": [],
    "metadata": {
     "collapsed": false
    }
   }
  }
 },
 "nbformat": 4,
 "nbformat_minor": 1
}