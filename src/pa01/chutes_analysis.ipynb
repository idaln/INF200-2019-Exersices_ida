{
 "cells": [],
 "metadata": {
  "kernelspec": {
   "display_name": "Python 3",
   "language": "python",
   "name": "python3"
  },
  "language_info": {
   "codemirror_mode": {
    "name": "ipython",
    "version": 3
   },
   "file_extension": ".py",
   "mimetype": "text/x-python",
   "name": "python",
   "nbconvert_exporter": "python",
   "pygments_lexer": "ipython3",
   "version": "3.7.1"
  },
  "pycharm": {
   "stem_cell": {
    "cell_type": "raw",
    "source": [
     "\n",
     "\n",
     "__author__ = \"Ida Lunde Naalsund, Kjersti Rustad Kvisberg\"\n",
     "__email__= \"idna@nmbu.no, kjkv@nmbu.no\"\n",
     "\n",
     "from matplotlib import pyplot as plt\n",
     "import snakes_and_ladders\n",
     "\n",
     "number_of_players = [1, 2, 4, 8]\n",
     "number_of_games = 100\n",
     "\n",
     "for players in number_of_players:\n",
     "    result = snakes_and_ladders.multi_game_experiment(\n",
     "        number_of_games, players, 87\n",
     "    )\n",
     "    plt.hist(result, bins=30, histtype='step')\n",
     "plt.legend(['1 player', '2 players', '4 players', '8 players'])\n"
    ],
    "metadata": {
     "collapsed": false
    }
   }
  }
 },
 "nbformat": 4,
 "nbformat_minor": 1
}