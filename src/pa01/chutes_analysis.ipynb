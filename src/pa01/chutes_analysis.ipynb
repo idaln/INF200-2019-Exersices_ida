{
 "cells": [
  {
   "cell_type": "code",
   "execution_count": 26,
   "metadata": {
    "collapsed": true,
    "pycharm": {
     "name": "#%% Statistics\n",
     "is_executing": false
    }
   },
   "outputs": [
    {
     "traceback": [
      "\u001b[1;31m---------------------------------------------------------------------------\u001b[0m",
      "\u001b[1;31mTypeError\u001b[0m                                 Traceback (most recent call last)",
      "\u001b[1;32m<ipython-input-26-18991a1ac886>\u001b[0m in \u001b[0;36m<module>\u001b[1;34m\u001b[0m\n\u001b[0;32m     13\u001b[0m     \u001b[0mresult\u001b[0m \u001b[1;33m=\u001b[0m \u001b[0mmulti_game_experiment\u001b[0m\u001b[1;33m(\u001b[0m\u001b[0mnumber_of_games\u001b[0m\u001b[1;33m,\u001b[0m \u001b[0mplayers\u001b[0m\u001b[1;33m,\u001b[0m \u001b[1;36m87\u001b[0m\u001b[1;33m)\u001b[0m\u001b[1;33m\u001b[0m\u001b[1;33m\u001b[0m\u001b[0m\n\u001b[0;32m     14\u001b[0m     \u001b[0mplt\u001b[0m\u001b[1;33m.\u001b[0m\u001b[0mhist\u001b[0m\u001b[1;33m(\u001b[0m\u001b[0mresult\u001b[0m\u001b[1;33m,\u001b[0m \u001b[0mbins\u001b[0m\u001b[1;33m=\u001b[0m\u001b[1;36m20\u001b[0m\u001b[1;33m,\u001b[0m \u001b[0mhisttype\u001b[0m\u001b[1;33m=\u001b[0m\u001b[1;34m'step'\u001b[0m\u001b[1;33m)\u001b[0m\u001b[1;33m\u001b[0m\u001b[1;33m\u001b[0m\u001b[0m\n\u001b[1;32m---> 15\u001b[1;33m \u001b[0mplt\u001b[0m\u001b[1;33m.\u001b[0m\u001b[0mlegend\u001b[0m\u001b[1;33m(\u001b[0m\u001b[1;33m[\u001b[0m\u001b[1;34m'1 player'\u001b[0m\u001b[1;33m,\u001b[0m \u001b[1;34m'2 players'\u001b[0m\u001b[1;33m,\u001b[0m \u001b[1;34m'4 players'\u001b[0m\u001b[1;33m,\u001b[0m \u001b[1;34m'8 players'\u001b[0m\u001b[1;33m]\u001b[0m\u001b[1;33m)\u001b[0m\u001b[1;33m\u001b[0m\u001b[1;33m\u001b[0m\u001b[0m\n\u001b[0m",
      "\u001b[1;31mTypeError\u001b[0m: 'list' object is not callable"
     ],
     "ename": "TypeError",
     "evalue": "'list' object is not callable",
     "output_type": "error"
    },
    {
     "data": {
      "text/plain": "<Figure size 432x288 with 1 Axes>",
      "image/png": "[encoded data removed]"
     },
     "metadata": {
      "needs_background": "light"
     },
     "output_type": "display_data"
    }
   ],
   "source": [
    "__author__ = \"Ida Lunde Naalsund, Kjersti Rustad Kvisberg\"\n",
    "__email__= \"idna@nmbu.no, kjkv@nmbu.no\"\n",
    "\n",
    "from matplotlib import pyplot as plt\n",
    "from snakes_and_ladders import check_position_on_ladder_or_snake, \\\n",
    "    player_make_one_move, one_player_game, single_game, multiple_games, \\\n",
    "    multi_game_experiment\n",
    "\n",
    "number_of_players = [1, 2, 4, 8]\n",
    "number_of_games = 100\n",
    "\n",
    "for players in number_of_players:\n",
    "    result = multi_game_experiment(number_of_games, players, 87)\n",
    "    plt.hist(result, bins=20, histtype='step')\n",
    "plt.legend(['1 player', '2 players', '4 players', '8 players'])   "
   ]
  }
 ],
 "metadata": {
  "kernelspec": {
   "display_name": "Python 3",
   "language": "python",
   "name": "python3"
  },
  "language_info": {
   "codemirror_mode": {
    "name": "ipython",
    "version": 2
   },
   "file_extension": ".py",
   "mimetype": "text/x-python",
   "name": "python",
   "nbconvert_exporter": "python",
   "pygments_lexer": "ipython2",
   "version": "2.7.6"
  },
  "pycharm": {
   "stem_cell": {
    "cell_type": "raw",
    "source": [],
    "metadata": {
     "collapsed": false
    }
   }
  }
 },
 "nbformat": 4,
 "nbformat_minor": 0
}