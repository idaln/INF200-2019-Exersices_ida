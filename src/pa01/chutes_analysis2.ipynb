{
 "cells": [
  {
   "cell_type": "code",
   "execution_count": null,
   "metadata": {
    "collapsed": true
   },
   "outputs": [],
   "source": []
  },
  {
   "cell_type": "code",
   "execution_count": null,
   "outputs": [],
   "source": [
    "__author__ = \"Ida Lunde Naalsund, Kjersti Rustad Kvisberg\"\n",
    "__email__= \"idna@nmbu.no, kjkv@nmbu.no\"\n",
    "\n",
    "from matplotlib import pyplot as plt\n",
    "from snakes_and_ladders import check_position_on_ladder_or_snake, \\\n",
    "    player_make_one_move, one_player_game, single_game, multiple_games, \\\n",
    "    multi_game_experiment\n",
    "\n",
    "number_of_players = [1, 2, 4, 8]\n",
    "number_of_games = 100\n",
    "\n",
    "for players in number_of_players:\n",
    "    result = multi_game_experiment(number_of_games, players, 87)\n",
    "    plt.hist(result, bins=20, histtype='step')\n",
    "plt.legend(['1 player', '2 players', '4 players', '8 players'])    "
   ],
   "metadata": {
    "collapsed": false,
    "pycharm": {
     "name": "#%% Statistics\n"
    }
   }
  },
  {
   "cell_type": "code",
   "execution_count": null,
   "outputs": [],
   "source": [
    "\n",
    "\n"
   ],
   "metadata": {
    "collapsed": false,
    "pycharm": {
     "name": "#%%\n"
    }
   }
  }
 ],
 "metadata": {
  "kernelspec": {
   "display_name": "Python 3",
   "language": "python",
   "name": "python3"
  },
  "language_info": {
   "codemirror_mode": {
    "name": "ipython",
    "version": 2
   },
   "file_extension": ".py",
   "mimetype": "text/x-python",
   "name": "python",
   "nbconvert_exporter": "python",
   "pygments_lexer": "ipython2",
   "version": "2.7.6"
  },
  "pycharm": {
   "stem_cell": {
    "cell_type": "raw",
    "source": [],
    "metadata": {
     "collapsed": false
    }
   }
  }
 },
 "nbformat": 4,
 "nbformat_minor": 0
}